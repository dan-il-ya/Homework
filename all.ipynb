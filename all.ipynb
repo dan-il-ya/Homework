{
  "nbformat": 4,
  "nbformat_minor": 0,
  "metadata": {
    "colab": {
      "name": "Untitled0.ipynb",
      "provenance": [],
      "collapsed_sections": [],
      "authorship_tag": "ABX9TyMJo6Yotew87WILnIR1Y7Do"
    },
    "kernelspec": {
      "name": "python3",
      "display_name": "Python 3"
    },
    "language_info": {
      "name": "python"
    }
  },
  "cells": [
    {
      "cell_type": "markdown",
      "metadata": {
        "id": "vJMt1ed-Sltu"
      },
      "source": [
        "Первое задание"
      ]
    },
    {
      "cell_type": "code",
      "metadata": {
        "id": "zffotkG3ScMm"
      },
      "source": [
        "import numpy as np\n",
        "import matplotlib.pyplot as plt"
      ],
      "execution_count": 17,
      "outputs": []
    },
    {
      "cell_type": "markdown",
      "metadata": {
        "id": "lktY5knkS4Ze"
      },
      "source": [
        "Упр. 1"
      ]
    },
    {
      "cell_type": "code",
      "metadata": {
        "colab": {
          "base_uri": "https://localhost:8080/"
        },
        "id": "1hIphBZ-SqoU",
        "outputId": "2c9cc020-c358-4d40-e872-a8f40276f277"
      },
      "source": [
        "# 1\n",
        "(width_a, width_b, high) = 1 + np.abs(np.floor(10*np.random.random((3))))\n",
        "(width_a, width_b, high) = (int(width_a), int(width_b), int(high))\n",
        "a = np.floor(10*np.random.random((high, width_a)))\n",
        "b = np.floor(10*np.random.random((high, width_b)))\n",
        "\n",
        "c = np.hstack((a, b))\n",
        "\n",
        "print(a)\n",
        "print(b)\n",
        "print(c)"
      ],
      "execution_count": 18,
      "outputs": [
        {
          "output_type": "stream",
          "name": "stdout",
          "text": [
            "[[2.]\n",
            " [1.]\n",
            " [9.]\n",
            " [6.]\n",
            " [5.]]\n",
            "[[9. 6. 7. 2. 4. 1. 5. 0.]\n",
            " [7. 6. 9. 4. 6. 5. 4. 0.]\n",
            " [8. 5. 4. 5. 0. 0. 4. 2.]\n",
            " [9. 4. 0. 6. 2. 9. 3. 5.]\n",
            " [7. 1. 5. 9. 2. 7. 7. 1.]]\n",
            "[[2. 9. 6. 7. 2. 4. 1. 5. 0.]\n",
            " [1. 7. 6. 9. 4. 6. 5. 4. 0.]\n",
            " [9. 8. 5. 4. 5. 0. 0. 4. 2.]\n",
            " [6. 9. 4. 0. 6. 2. 9. 3. 5.]\n",
            " [5. 7. 1. 5. 9. 2. 7. 7. 1.]]\n"
          ]
        }
      ]
    },
    {
      "cell_type": "code",
      "metadata": {
        "colab": {
          "base_uri": "https://localhost:8080/"
        },
        "id": "L9bGc3j4SwXc",
        "outputId": "6ba6342f-f4e4-458b-808e-f0e0da464c00"
      },
      "source": [
        "# 2\n",
        "SIZE = 4\n",
        "\n",
        "a = np.floor(SIZE*np.random.random(SIZE)).astype(int)\n",
        "b = np.floor(SIZE*np.random.random(SIZE)).astype(int)\n",
        "print(a, '\\n', b)\n",
        "M = np.array(np.floor(10*np.random.random((SIZE, SIZE))))\n",
        "\n",
        "print(M)\n",
        "print(M[a, b])"
      ],
      "execution_count": 19,
      "outputs": [
        {
          "output_type": "stream",
          "name": "stdout",
          "text": [
            "[2 2 2 1] \n",
            " [0 1 1 0]\n",
            "[[6. 5. 5. 5.]\n",
            " [4. 4. 2. 6.]\n",
            " [8. 4. 2. 0.]\n",
            " [1. 4. 0. 5.]]\n",
            "[8. 4. 4. 4.]\n"
          ]
        }
      ]
    },
    {
      "cell_type": "code",
      "metadata": {
        "colab": {
          "base_uri": "https://localhost:8080/"
        },
        "id": "z4b4TN99TCTm",
        "outputId": "175a3ef2-3aec-49ae-a169-fbfc641fd7fa"
      },
      "source": [
        "# 3\n",
        "SIZE = 5\n",
        "\n",
        "a = np.floor(10*np.random.random((SIZE, SIZE)))\n",
        "diag = np.diag(a)\n",
        "\n",
        "print(a)\n",
        "print(\"Matrix trace: \", a.trace())\n",
        "\n",
        "num = np.size(diag.nonzero())\n",
        "\n",
        "print(\"Number of nonzero elements: \", num)"
      ],
      "execution_count": 20,
      "outputs": [
        {
          "output_type": "stream",
          "name": "stdout",
          "text": [
            "[[9. 0. 8. 1. 1.]\n",
            " [3. 9. 6. 2. 3.]\n",
            " [1. 3. 6. 6. 2.]\n",
            " [4. 3. 1. 5. 2.]\n",
            " [0. 6. 0. 8. 4.]]\n",
            "Matrix trace:  33.0\n",
            "Number of nonzero elements:  5\n"
          ]
        }
      ]
    },
    {
      "cell_type": "code",
      "metadata": {
        "colab": {
          "base_uri": "https://localhost:8080/"
        },
        "id": "KyblBdaoTcVY",
        "outputId": "dd4b9ba1-c30e-46ce-992e-364ea40a6d87"
      },
      "source": [
        "# 4\n",
        "T = np.round(100*np.random.random((2, 3, 4, 5))).astype(int)\n",
        "F = T.flatten()\n",
        "\n",
        "# print(T)\n",
        "print(np.array(np.unique(F, return_counts=True)))"
      ],
      "execution_count": 21,
      "outputs": [
        {
          "output_type": "stream",
          "name": "stdout",
          "text": [
            "[[ 1  3  4  5  6  8  9 12 13 14 16 17 18 19 20 21 22 24 25 27 28 31 32 33\n",
            "  34 35 36 38 39 41 42 43 45 46 47 49 50 51 52 54 55 56 57 58 60 62 63 64\n",
            "  65 67 68 71 74 76 77 78 79 81 83 86 88 89 90 91 92 93 94 95 96 97 98 99]\n",
            " [ 1  3  1  1  1  1  2  1  1  2  1  1  1  2  1  1  1  2  1  2  1  1  1  1\n",
            "   3  1  1  1  1  2  2  3  3  1  2  3  1  1  4  2  1  1  6  1  1  2  1  2\n",
            "   2  2  1  1  1  3  1  3  4  1  2  1  2  3  2  1  1  1  2  2  1  2  2  2]]\n"
          ]
        }
      ]
    },
    {
      "cell_type": "code",
      "metadata": {
        "colab": {
          "base_uri": "https://localhost:8080/"
        },
        "id": "gU0_gXqfTn6Z",
        "outputId": "4cc132e0-0bc5-4348-d7aa-c5e5e77d8fc4"
      },
      "source": [
        "# 5\n",
        "SIZE = 4\n",
        "\n",
        "M = np.array(np.floor(10*np.random.random((SIZE, SIZE)))) - 5\n",
        "N = np.array(np.floor(10*np.random.random((SIZE, SIZE)))) - 5\n",
        "\n",
        "print(M)\n",
        "print(N)\n",
        "\n",
        "N[M < 0] = 0\n",
        "\n",
        "print(N)"
      ],
      "execution_count": 22,
      "outputs": [
        {
          "output_type": "stream",
          "name": "stdout",
          "text": [
            "[[ 4. -5.  1.  1.]\n",
            " [-4.  0. -1. -2.]\n",
            " [-3.  0.  1. -1.]\n",
            " [-4.  1. -2.  0.]]\n",
            "[[ 1. -2. -4.  3.]\n",
            " [ 4.  3.  4.  0.]\n",
            " [-4. -1. -5. -5.]\n",
            " [-4.  2.  4.  0.]]\n",
            "[[ 1.  0. -4.  3.]\n",
            " [ 0.  3.  0.  0.]\n",
            " [ 0. -1. -5.  0.]\n",
            " [ 0.  2.  0.  0.]]\n"
          ]
        }
      ]
    },
    {
      "cell_type": "code",
      "metadata": {
        "colab": {
          "base_uri": "https://localhost:8080/"
        },
        "id": "isY7jLGZTudA",
        "outputId": "8bc2a136-692c-4f19-aa65-264b533da6a7"
      },
      "source": [
        "# 6\n",
        "SIZE = 4\n",
        "\n",
        "A = np.array(np.floor(10*np.random.random((SIZE, SIZE))))\n",
        "\n",
        "A = A - np.mean(A, axis=0)\n",
        "\n",
        "M = np.sqrt(np.diag(np.dot(A.T, A)))\n",
        "\n",
        "A[M > 0] /= M\n",
        "print(A)"
      ],
      "execution_count": 23,
      "outputs": [
        {
          "output_type": "stream",
          "name": "stdout",
          "text": [
            "[[-0.32547228 -0.28867513 -0.34340141 -0.58834841]\n",
            " [ 0.19528337  0.8660254   0.34340141 -0.19611614]\n",
            " [-0.5858501  -0.28867513 -0.61812254  0.        ]\n",
            " [ 0.71603901 -0.28867513  0.61812254  0.78446454]]\n"
          ]
        }
      ]
    },
    {
      "cell_type": "code",
      "metadata": {
        "colab": {
          "base_uri": "https://localhost:8080/"
        },
        "id": "mvynH6T7T36g",
        "outputId": "d6c3151a-f229-4474-d77d-d111943b9ac3"
      },
      "source": [
        "# 7\n",
        "n, m = 3, 4\n",
        "\n",
        "A = np.array(np.floor(10*np.random.random((n, m))))\n",
        "B = np.array(np.floor(10*np.random.random((n, m))))\n",
        "\n",
        "C = np.dot(A.T, B)\n",
        "\n",
        "print(A)\n",
        "print(B)\n",
        "\n",
        "print(C)"
      ],
      "execution_count": 24,
      "outputs": [
        {
          "output_type": "stream",
          "name": "stdout",
          "text": [
            "[[4. 2. 1. 2.]\n",
            " [5. 9. 7. 1.]\n",
            " [1. 8. 4. 4.]]\n",
            "[[1. 5. 1. 4.]\n",
            " [1. 7. 3. 2.]\n",
            " [1. 1. 1. 7.]]\n",
            "[[10. 56. 20. 33.]\n",
            " [19. 81. 37. 82.]\n",
            " [12. 58. 26. 46.]\n",
            " [ 7. 21.  9. 38.]]\n"
          ]
        }
      ]
    },
    {
      "cell_type": "code",
      "metadata": {
        "id": "0O9zxWyET_MC"
      },
      "source": [
        "# 8\n",
        "#in progress"
      ],
      "execution_count": 25,
      "outputs": []
    },
    {
      "cell_type": "markdown",
      "metadata": {
        "id": "CtrngzUET8yc"
      },
      "source": [
        "Упр. 2"
      ]
    },
    {
      "cell_type": "code",
      "metadata": {
        "colab": {
          "base_uri": "https://localhost:8080/",
          "height": 265
        },
        "id": "ooJSKbGXUFyv",
        "outputId": "a474b4ac-ebf7-4e67-c372-2d0a8161b419"
      },
      "source": [
        "# 1\n",
        "x = [10, 8, 13, 9, 11, 14, 6, 4, 12, 7, 5]\n",
        "y1 = [8.04, 6.95, 7.58, 8.81, 8.33, 9.96, 7.24, 4.26, 10.84, 4.82, 5.68]\n",
        "y2 = [9.14, 8.14, 8.74, 8.77, 9.26, 8.10, 6.13, 3.10, 9.13, 7.26, 4.74]\n",
        "y3 = [7.46, 6.77, 12.74, 7.11, 7.81, 8.84, 6.08, 5.39, 8.15, 6.42, 5.73]\n",
        "\n",
        "x4 = [8, 8, 8, 8, 8, 8, 8, 19, 8, 8, 8]\n",
        "y4 = [6.58, 5.76, 7.71, 8.84, 8.47, 7.04, 5.25, 12.50, 5.56, 7.91, 6.89]\n",
        "\n",
        "fig, axs = plt.subplots(2, 2)\n",
        "\n",
        "for f in (axs[0, 0], axs[1, 0], axs[0, 1], axs[1, 1]):\n",
        "    f.set(xlim=(0, 20), ylim=(2, 14))\n",
        "    f.set(xticks=(0, 10, 20), yticks=(4, 8, 12))\n",
        "\n",
        "axs[0, 0].plot(x, y1, 'o')\n",
        "axs[1, 0].plot(x, y2, 'o')\n",
        "axs[0, 1].plot(x, y3, 'o')\n",
        "axs[1, 1].plot(x4, y4, 'o')\n",
        "\n",
        "\n",
        "plt.show()"
      ],
      "execution_count": 26,
      "outputs": [
        {
          "output_type": "display_data",
          "data": {
            "image/png": "[encoded data removed]",
            "text/plain": [
              "<Figure size 432x288 with 4 Axes>"
            ]
          },
          "metadata": {
            "needs_background": "light"
          }
        }
      ]
    },
    {
      "cell_type": "code",
      "metadata": {
        "colab": {
          "base_uri": "https://localhost:8080/",
          "height": 265
        },
        "id": "x6rUcJVCUG-Y",
        "outputId": "ff416fce-8710-410e-fb9e-80939af63fab"
      },
      "source": [
        "# 2\n",
        "x = np.linspace(0, 10, 50)\n",
        "y = x + np.random.normal(size=50)\n",
        "\n",
        "plt.plot(x, y, 'o')\n",
        "b = (np.mean(x * y) - np.mean(x)*np.mean(y))/(np.mean(x*x)-np.mean(x)**2)\n",
        "a = np.mean(y) - b*np.mean(x)\n",
        "plt.plot(x, x * b + a, '-')\n",
        "\n",
        "plt.errorbar(x, y, yerr=1, xerr=0.5)\n",
        "\n",
        "\n",
        "plt.show()"
      ],
      "execution_count": 27,
      "outputs": [
        {
          "output_type": "display_data",
          "data": {
            "image/png": "[encoded data removed]",
            "text/plain": [
              "<Figure size 432x288 with 1 Axes>"
            ]
          },
          "metadata": {
            "needs_background": "light"
          }
        }
      ]
    },
    {
      "cell_type": "code",
      "metadata": {
        "colab": {
          "base_uri": "https://localhost:8080/",
          "height": 269
        },
        "id": "yTha9mNqUHzg",
        "outputId": "ba6ac8d4-d602-4be4-9f13-2877b2585057"
      },
      "source": [
        "# 3\n",
        "x = np.linspace(1, 20, 50)\n",
        "y = x + np.random.normal(size=50)\n",
        "\n",
        "plt.plot(x, y, 'o')\n",
        "b = (np.mean(x * y) - np.mean(x)*np.mean(y))/(np.mean(x*x)-np.mean(x)**2)\n",
        "a = np.mean(y) - b*np.mean(x)\n",
        "plt.plot(x, x * b + a, '-')\n",
        "\n",
        "plt.errorbar(x, y, yerr=1, xerr=0.5)\n",
        "\n",
        "plt.xscale('log')\n",
        "plt.yscale('log')\n",
        "plt.show()"
      ],
      "execution_count": 28,
      "outputs": [
        {
          "output_type": "display_data",
          "data": {
            "image/png": "[encoded data removed]",
            "text/plain": [
              "<Figure size 432x288 with 1 Axes>"
            ]
          },
          "metadata": {
            "needs_background": "light"
          }
        }
      ]
    },
    {
      "cell_type": "markdown",
      "metadata": {
        "id": "-jGr9A2PUXh2"
      },
      "source": [
        "Упр. 3"
      ]
    },
    {
      "cell_type": "code",
      "metadata": {
        "colab": {
          "base_uri": "https://localhost:8080/",
          "height": 265
        },
        "id": "oHRffg-jUZ83",
        "outputId": "02bc5877-dc8b-4219-acbd-7230c790517b"
      },
      "source": [
        "# 1\n",
        "MATRIX_SIZE = 300\n",
        "BIN_NUMBER = 30\n",
        "REPEAT_NUMBER = 50\n",
        "PLOT_HIST = 1\n",
        "\n",
        "N = MATRIX_SIZE\n",
        "M = np.random.normal(size=(N, N))\n",
        "S = M.T + M\n",
        "eigs = np.linalg.eig(S)[0]\n",
        "Y, bins, _ = plt.hist(eigs, BIN_NUMBER, alpha=0.0)\n",
        "DTST = Y\n",
        "\n",
        "\n",
        "if PLOT_HIST:\n",
        "    plt.hist(eigs, bins=bins, alpha=0.5)"
      ],
      "execution_count": 29,
      "outputs": [
        {
          "output_type": "display_data",
          "data": {
            "image/png": "[encoded data removed]",
            "text/plain": [
              "<Figure size 432x288 with 1 Axes>"
            ]
          },
          "metadata": {
            "needs_background": "light"
          }
        }
      ]
    },
    {
      "cell_type": "code",
      "metadata": {
        "colab": {
          "base_uri": "https://localhost:8080/",
          "height": 265
        },
        "id": "4mW3kF1nUmrc",
        "outputId": "99437d16-117b-46f0-ecd3-d1a6bddf7cc3"
      },
      "source": [
        "for i in range(REPEAT_NUMBER):\n",
        "    M = np.random.normal(size=[N, N])\n",
        "    S = M + M.T\n",
        "    eigs = np.linalg.eig(S)[0]\n",
        "    DTST = np.vstack([DTST, plt.hist(eigs, bins=bins, alpha=0.0)[0]])\n",
        "DTST = DTST.T\n",
        "\n",
        "\n",
        "plt.errorbar(bins[1:], DTST.mean(axis=1), yerr=DTST.std(axis=1), color='r')\n",
        "plt.show()"
      ],
      "execution_count": 30,
      "outputs": [
        {
          "output_type": "display_data",
          "data": {
            "image/png": "[encoded data removed]",
            "text/plain": [
              "<Figure size 432x288 with 1 Axes>"
            ]
          },
          "metadata": {
            "needs_background": "light"
          }
        }
      ]
    }
  ]
}