{
  "nbformat": 4,
  "nbformat_minor": 0,
  "metadata": {
    "colab": {
      "name": "Untitled0.ipynb",
      "provenance": [],
      "collapsed_sections": []
    },
    "kernelspec": {
      "name": "python3",
      "display_name": "Python 3"
    },
    "language_info": {
      "name": "python"
    }
  },
  "cells": [
    {
      "cell_type": "markdown",
      "metadata": {
        "id": "vJMt1ed-Sltu"
      },
      "source": [
        "Первое задание"
      ]
    },
    {
      "cell_type": "code",
      "metadata": {
        "id": "zffotkG3ScMm"
      },
      "source": [
        "import numpy as np\n",
        "import matplotlib.pyplot as plt"
      ],
      "execution_count": 1,
      "outputs": []
    },
    {
      "cell_type": "markdown",
      "metadata": {
        "id": "lktY5knkS4Ze"
      },
      "source": [
        "Упр. 1"
      ]
    },
    {
      "cell_type": "code",
      "metadata": {
        "id": "1hIphBZ-SqoU"
      },
      "source": [
        "# 1\n",
        "(width_a, width_b, high) = 1 + np.abs(np.floor(10*np.random.random((3))))\n",
        "(width_a, width_b, high) = (int(width_a), int(width_b), int(high))\n",
        "a = np.floor(10*np.random.random((high, width_a)))\n",
        "b = np.floor(10*np.random.random((high, width_b)))\n",
        "\n",
        "c = np.hstack((a, b))\n",
        "\n",
        "print(a)\n",
        "print(b)\n",
        "print(c)"
      ],
      "execution_count": null,
      "outputs": []
    },
    {
      "cell_type": "code",
      "metadata": {
        "id": "L9bGc3j4SwXc"
      },
      "source": [
        "# 2\n",
        "SIZE = 4\n",
        "\n",
        "a = np.floor(SIZE*np.random.random(SIZE)).astype(int)\n",
        "b = np.floor(SIZE*np.random.random(SIZE)).astype(int)\n",
        "print(a, '\\n', b)\n",
        "M = np.array(np.floor(10*np.random.random((SIZE, SIZE))))\n",
        "\n",
        "print(M)\n",
        "print(M[a, b])"
      ],
      "execution_count": null,
      "outputs": []
    },
    {
      "cell_type": "code",
      "metadata": {
        "id": "z4b4TN99TCTm"
      },
      "source": [
        "# 3\n",
        "SIZE = 5\n",
        "\n",
        "a = np.floor(10*np.random.random((SIZE, SIZE)))\n",
        "diag = np.diag(a)\n",
        "\n",
        "print(a)\n",
        "print(\"Matrix trace: \", a.trace())\n",
        "\n",
        "num = np.size(diag.nonzero())\n",
        "\n",
        "print(\"Number of nonzero elements: \", num)"
      ],
      "execution_count": null,
      "outputs": []
    },
    {
      "cell_type": "code",
      "metadata": {
        "id": "KyblBdaoTcVY"
      },
      "source": [
        "# 4\n",
        "T = np.round(100*np.random.random((2, 3, 4, 5))).astype(int)\n",
        "F = T.flatten()\n",
        "\n",
        "# print(T)\n",
        "print(np.array(np.unique(F, return_counts=True)))"
      ],
      "execution_count": null,
      "outputs": []
    },
    {
      "cell_type": "code",
      "metadata": {
        "id": "gU0_gXqfTn6Z"
      },
      "source": [
        "# 5\n",
        "SIZE = 4\n",
        "\n",
        "M = np.array(np.floor(10*np.random.random((SIZE, SIZE)))) - 5\n",
        "N = np.array(np.floor(10*np.random.random((SIZE, SIZE)))) - 5\n",
        "\n",
        "print(M)\n",
        "print(N)\n",
        "\n",
        "N[M < 0] = 0\n",
        "\n",
        "print(N)"
      ],
      "execution_count": null,
      "outputs": []
    },
    {
      "cell_type": "code",
      "metadata": {
        "id": "isY7jLGZTudA"
      },
      "source": [
        "# 6\n",
        "SIZE = 4\n",
        "\n",
        "A = np.array(np.floor(10*np.random.random((SIZE, SIZE))))\n",
        "\n",
        "A = A - np.mean(A, axis=0)\n",
        "\n",
        "M = np.sqrt(np.diag(np.dot(A.T, A)))\n",
        "\n",
        "A[M > 0] /= M\n",
        "print(A)"
      ],
      "execution_count": null,
      "outputs": []
    },
    {
      "cell_type": "code",
      "metadata": {
        "id": "mvynH6T7T36g"
      },
      "source": [
        "# 7\n",
        "n, m = 3, 4\n",
        "\n",
        "A = np.array(np.floor(10*np.random.random((n, m))))\n",
        "B = np.array(np.floor(10*np.random.random((n, m))))\n",
        "\n",
        "C = np.dot(A.T, B)\n",
        "\n",
        "print(A)\n",
        "print(B)\n",
        "\n",
        "print(C)"
      ],
      "execution_count": null,
      "outputs": []
    },
    {
      "cell_type": "code",
      "metadata": {
        "id": "0O9zxWyET_MC"
      },
      "source": [
        "# 8\n",
        "#in progress"
      ],
      "execution_count": null,
      "outputs": []
    },
    {
      "cell_type": "markdown",
      "metadata": {
        "id": "CtrngzUET8yc"
      },
      "source": [
        "Упр. 2"
      ]
    },
    {
      "cell_type": "code",
      "metadata": {
        "colab": {
          "base_uri": "https://localhost:8080/",
          "height": 265
        },
        "id": "ooJSKbGXUFyv",
        "outputId": "420f826b-fd8f-4c3f-dc1e-49305e07e59d"
      },
      "source": [
        "# 1\n",
        "x = [10, 8, 13, 9, 11, 14, 6, 4, 12, 7, 5]\n",
        "y1 = [8.04, 6.95, 7.58, 8.81, 8.33, 9.96, 7.24, 4.26, 10.84, 4.82, 5.68]\n",
        "y2 = [9.14, 8.14, 8.74, 8.77, 9.26, 8.10, 6.13, 3.10, 9.13, 7.26, 4.74]\n",
        "y3 = [7.46, 6.77, 12.74, 7.11, 7.81, 8.84, 6.08, 5.39, 8.15, 6.42, 5.73]\n",
        "\n",
        "x4 = [8, 8, 8, 8, 8, 8, 8, 19, 8, 8, 8]\n",
        "y4 = [6.58, 5.76, 7.71, 8.84, 8.47, 7.04, 5.25, 12.50, 5.56, 7.91, 6.89]\n",
        "\n",
        "fig, axs = plt.subplots(2, 2)\n",
        "\n",
        "for f in (axs[0, 0], axs[1, 0], axs[0, 1], axs[1, 1]):\n",
        "    f.set(xlim=(0, 20), ylim=(2, 14))\n",
        "    f.set(xticks=(0, 10, 20), yticks=(4, 8, 12))\n",
        "\n",
        "axs[0, 0].plot(x, y1, 'o')\n",
        "axs[1, 0].plot(x, y2, 'o')\n",
        "axs[0, 1].plot(x, y3, 'o')\n",
        "axs[1, 1].plot(x4, y4, 'o')\n",
        "\n",
        "\n",
        "plt.show()"
      ],
      "execution_count": 11,
      "outputs": [
        {
          "output_type": "display_data",
          "data": {
            "image/png": "[encoded data removed]",
            "text/plain": [
              "<Figure size 432x288 with 4 Axes>"
            ]
          },
          "metadata": {
            "needs_background": "light"
          }
        }
      ]
    },
    {
      "cell_type": "code",
      "metadata": {
        "colab": {
          "base_uri": "https://localhost:8080/",
          "height": 265
        },
        "id": "x6rUcJVCUG-Y",
        "outputId": "e10a68c2-941a-4adf-f9d5-f2cdf3a9eedb"
      },
      "source": [
        "# 2\n",
        "x = np.linspace(0, 10, 50)\n",
        "y = x + np.random.normal(size=50)\n",
        "\n",
        "plt.plot(x, y, 'o')\n",
        "b = (np.mean(x * y) - np.mean(x)*np.mean(y))/(np.mean(x*x)-np.mean(x)**2)\n",
        "a = np.mean(y) - b*np.mean(x)\n",
        "plt.plot(x, x * b + a, '-')\n",
        "\n",
        "plt.errorbar(x, y, yerr=1, xerr=0.5)\n",
        "\n",
        "\n",
        "plt.show()"
      ],
      "execution_count": 12,
      "outputs": [
        {
          "output_type": "display_data",
          "data": {
            "image/png": "[encoded data removed]",
            "text/plain": [
              "<Figure size 432x288 with 1 Axes>"
            ]
          },
          "metadata": {
            "needs_background": "light"
          }
        }
      ]
    },
    {
      "cell_type": "code",
      "metadata": {
        "colab": {
          "base_uri": "https://localhost:8080/",
          "height": 269
        },
        "id": "yTha9mNqUHzg",
        "outputId": "ad922eb4-5b44-4d2a-be7a-ba9040351a1f"
      },
      "source": [
        "# 3\n",
        "x = np.linspace(1, 20, 50)\n",
        "y = x + np.random.normal(size=50)\n",
        "\n",
        "plt.plot(x, y, 'o')\n",
        "b = (np.mean(x * y) - np.mean(x)*np.mean(y))/(np.mean(x*x)-np.mean(x)**2)\n",
        "a = np.mean(y) - b*np.mean(x)\n",
        "plt.plot(x, x * b + a, '-')\n",
        "\n",
        "plt.errorbar(x, y, yerr=1, xerr=0.5)\n",
        "\n",
        "plt.xscale('log')\n",
        "plt.yscale('log')\n",
        "plt.show()"
      ],
      "execution_count": 13,
      "outputs": [
        {
          "output_type": "display_data",
          "data": {
            "image/png": "[encoded data removed]",
            "text/plain": [
              "<Figure size 432x288 with 1 Axes>"
            ]
          },
          "metadata": {
            "needs_background": "light"
          }
        }
      ]
    },
    {
      "cell_type": "markdown",
      "metadata": {
        "id": "-jGr9A2PUXh2"
      },
      "source": [
        "Упр. 3"
      ]
    },
    {
      "cell_type": "code",
      "metadata": {
        "colab": {
          "base_uri": "https://localhost:8080/",
          "height": 265
        },
        "id": "oHRffg-jUZ83",
        "outputId": "ddce23b7-0397-4170-b7ae-dc47693ccb60"
      },
      "source": [
        "# 1\n",
        "MATRIX_SIZE = 300\n",
        "BIN_NUMBER = 30\n",
        "REPEAT_NUMBER = 50\n",
        "PLOT_HIST = 1\n",
        "\n",
        "N = MATRIX_SIZE\n",
        "M = np.random.normal(size=(N, N))\n",
        "S = M.T + M\n",
        "eigs = np.linalg.eig(S)[0]\n",
        "Y, bins, _ = plt.hist(eigs, BIN_NUMBER, alpha=0.0)\n",
        "DTST = Y\n",
        "\n",
        "\n",
        "if PLOT_HIST:\n",
        "    plt.hist(eigs, bins=bins, alpha=0.5)"
      ],
      "execution_count": 15,
      "outputs": [
        {
          "output_type": "display_data",
          "data": {
            "image/png": "[encoded data removed]",
            "text/plain": [
              "<Figure size 432x288 with 1 Axes>"
            ]
          },
          "metadata": {
            "needs_background": "light"
          }
        }
      ]
    },
    {
      "cell_type": "code",
      "metadata": {
        "colab": {
          "base_uri": "https://localhost:8080/",
          "height": 265
        },
        "id": "4mW3kF1nUmrc",
        "outputId": "542ebad8-b353-47d5-9d58-753035c39bf7"
      },
      "source": [
        "for i in range(REPEAT_NUMBER):\n",
        "    M = np.random.normal(size=[N, N])\n",
        "    S = M + M.T\n",
        "    eigs = np.linalg.eig(S)[0]\n",
        "    DTST = np.vstack([DTST, plt.hist(eigs, bins=bins, alpha=0.0)[0]])\n",
        "DTST = DTST.T\n",
        "\n",
        "\n",
        "plt.errorbar(bins[1:], DTST.mean(axis=1), yerr=DTST.std(axis=1), color='r')\n",
        "plt.show()"
      ],
      "execution_count": 16,
      "outputs": [
        {
          "output_type": "display_data",
          "data": {
            "image/png": "[encoded data removed]",
            "text/plain": [
              "<Figure size 432x288 with 1 Axes>"
            ]
          },
          "metadata": {
            "needs_background": "light"
          }
        }
      ]
    }
  ]
}