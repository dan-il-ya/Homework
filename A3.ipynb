{
  "nbformat": 4,
  "nbformat_minor": 0,
  "metadata": {
    "colab": {
      "name": "A3.ipynb",
      "provenance": [],
      "collapsed_sections": [],
      "authorship_tag": "ABX9TyMd9al8DngE6QuS1wf74i/r"
    },
    "kernelspec": {
      "name": "python3",
      "display_name": "Python 3"
    },
    "language_info": {
      "name": "python"
    }
  },
  "cells": [
    {
      "cell_type": "code",
      "metadata": {
        "id": "1ZAPu7e-CpBV"
      },
      "source": [
        "import numpy as np\n",
        "import matplotlib.pyplot as plt"
      ],
      "execution_count": null,
      "outputs": []
    },
    {
      "cell_type": "markdown",
      "metadata": {
        "id": "Mlz8VFrGUx41"
      },
      "source": [
        "Задача 1\n",
        "---\n",
        "$\\newcommand{\\L}{\\mathcal {L}} \\newcommand{\\diff}[2]{\\frac{\\partial {#1}}{\\partial {#2}}}$\n",
        "Поиск минимума функционала $\\L = - \\ln \\prod\\limits_i p(x_i)$ при заданной выборке $\\{x_i\\}$, где $p(x) = \\frac{1}{\\sqrt{2 \\pi \\sigma^2}} e^{- \\frac{(x- \\mu)^2}{2 \\sigma ^ 2}}$ --- Гауссова плотность. То есть итоговая неправдоподобность имеет вид немного отличный от МНК:\n",
        "$$\n",
        "\\L \n",
        "= \n",
        "  \\frac{1}{2 \\sigma^2} \\sum_i (x_i - \\mu)^2 \n",
        "  + \n",
        "  N \\ln \\sigma \n",
        "  + \n",
        "  \\frac{N}{2}\\ln{2\\pi}\n",
        "$$\n",
        "\n",
        " Найдём вариацию:\n",
        "$$\n",
        "  \\delta\\L \n",
        "= \n",
        "  \\diff{\\L}{\\mu} \\delta \\mu + \\diff{\\L}{\\sigma} \\delta \\sigma \n",
        "= \n",
        "  \\left(\n",
        "    \\frac{\\mu}{2 \\sigma^2} \\sum_i (\\mu - x_i)\n",
        "  \\right)\n",
        "  \\delta\\mu \n",
        "  + \n",
        "  \\frac{1}{\\sigma^3}\n",
        "  \\left(\n",
        "    N \\sigma^2 - \\sum_i (x_i - \\mu)^2\n",
        "  \\right)\n",
        "  \\delta\\sigma\n",
        "=\n",
        "  0,\n",
        "$$\n",
        "\n",
        "откуда получим: \n",
        "$$\n",
        "\\mu = \\frac{1}{N} \\sum_i x_i = \\bar x \\quad \\sigma^2 = \\overline{(x_i - \\bar x)^2}\n",
        "$$\n"
      ]
    },
    {
      "cell_type": "markdown",
      "metadata": {
        "id": "BEU7K_NHT8m7"
      },
      "source": [
        "Задача 2\n",
        "---\n",
        "$\\newcommand{\\l}{\\lambda}$\n",
        "1) По условию: $P_\\l(n) = P(n|\\l) = \\frac{\\l ^ n}{n!} e^{-\\l}$, $P(\\l) = \\rm const$. Тогда по теореме Байеса:\n",
        "\n",
        "$$\n",
        "  P(\\l|m) \n",
        "= \n",
        "  \\frac{P(m|\\l)P(\\l)}{P(m)} \n",
        "= \n",
        "  \\left( \\frac{P(\\l)}{P(m)}\\right) P(m|\\l)\n",
        "=\n",
        "  \\left(\\frac{P(\\l)}{\\int_0^{+\\infty}P(m|\\l)P(\\l)d\\l}\\right) P(m|\\l)\n",
        "=\n",
        "  \\left(\\frac{1}{\\int_0^{+\\infty}P(m|\\l)d\\l}\\right) P(m|\\l)\n",
        "=\n",
        "  P(m|\\l)\n",
        "$$\n",
        "2) После повторения эксперимента имеем: $P'(\\l) = P(\\l|m) = \\frac{\\l ^ m}{m!} e^{-\\l}$. Тогда:\n",
        "$$\n",
        "  P(\\l|m',m) \n",
        "= \n",
        "  \\frac{P(m'|\\l)P'(\\l)}{P'(m')} \n",
        "= \n",
        "  \\left( \\frac{P'(\\l)}{P'(m')}\\right) P(m'|\\l)\n",
        "=\n",
        "  \\left(\\frac{P'(\\l)}{\\int_0^{+\\infty}P(m'|\\l)P'(\\l)d\\l}\\right) P(m'|\\l)\n",
        "=\n",
        "  \\left(\n",
        "    \\frac{\\frac{\\l ^ m}{m!} e^{-\\l}}\n",
        "    {\\int_0^{+\\infty}\n",
        "      \\frac{\\l ^ m}{m!} e^{-\\l}\\frac{\\l ^ {m'}}{m'!} e^{-\\l}\n",
        "    d\\l}\n",
        "  \\right)\n",
        "   \\frac{\\l ^ {m'}}{m'!} e^{-\\l}\n",
        "= \n",
        "  2 \\frac{(2\\l)^{m+m'}}{(m+m')!}e^{-2\\l}\n",
        "$$\n",
        "\n"
      ]
    },
    {
      "cell_type": "markdown",
      "metadata": {
        "id": "JH2oZVCSLctF"
      },
      "source": [
        "Задача 3\n",
        "---\n",
        "Запишем условия задачи в удобном виде. возможные исходы: \"$+$\" - тест положительный \"$-$\" - тест отрицательный; \"Б\" - Петя болен, \"З\" - Петя здоров. Тогда из общей доли заболевших следует: $P(Б) = 10^{-5}$, $P(З) = 1 - 10^{-5}$, а из достоверонсти тестов: $P(+|Б) = 99\\%$, $P(+|З) = 1\\%$. Тогда теорема Байеса даёт ответ на задачу:\n",
        "$$\n",
        "P(Б|+)\n",
        "=\n",
        "\\frac{P(Б)P(+|Б)}{P(+)}\n",
        "=\n",
        "\\frac{P(Б)P(+|Б)}{P(Б)P(+|Б)+P(З)P(+|З)}\n",
        "=\n",
        "\\frac{10^{-5} 99\\%}{10^{-5} 99\\%+(1-10^{-5}) 1\\%}\n",
        "\\approx\\frac{1}{1+\\frac{1}{10^{-3}}}\n",
        "\\approx 10^{-3}\n",
        "$$"
      ]
    },
    {
      "cell_type": "markdown",
      "metadata": {
        "id": "MWQ5ev8bOwq3"
      },
      "source": [
        "Задача 4\n",
        "---\n"
      ]
    }
  ]
}