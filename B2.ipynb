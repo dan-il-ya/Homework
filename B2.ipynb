{
  "nbformat": 4,
  "nbformat_minor": 0,
  "metadata": {
    "colab": {
      "name": "B2.ipynb",
      "provenance": [],
      "collapsed_sections": [],
      "authorship_tag": "ABX9TyPPak1W+ORkf5kOnBTC+s+a"
    },
    "kernelspec": {
      "name": "python3",
      "display_name": "Python 3"
    },
    "language_info": {
      "name": "python"
    }
  },
  "cells": [
    {
      "cell_type": "code",
      "execution_count": 2,
      "metadata": {
        "id": "Bd6CNy604MHo"
      },
      "outputs": [],
      "source": [
        "import pandas as pd\n",
        "import numpy as np\n",
        "import matplotlib.pyplot as plt"
      ]
    },
    {
      "cell_type": "markdown",
      "source": [
        "Задача 1\n",
        "---"
      ],
      "metadata": {
        "id": "8K3Y2fFXN0HX"
      }
    },
    {
      "cell_type": "code",
      "source": [
        "def L_p_vector_norm(v, p):\n",
        "   return ((np.sum(np.abs(v)**p))**(1/p))\n",
        "\n",
        "def L_p_matrix_norm(m, p):\n",
        "    vs = np.random.uniform(-1, 1, (m.shape[0], 10000))\n",
        "    vs = vs/L_p_vector_norm(vs, p)\n",
        "    return np.max(L_p_vector_norm(np.dot(m, vs), p))\n",
        "\n",
        "def condition_number(m, p):\n",
        "    return L_p_matrix_norm(m,p) * L_p_matrix_norm(np.linalg.pinv(m),p)"
      ],
      "metadata": {
        "id": "c3nbQ3QfN2Sn"
      },
      "execution_count": 42,
      "outputs": []
    },
    {
      "cell_type": "code",
      "source": [
        "L_p_vector_norm((1,1),2)"
      ],
      "metadata": {
        "colab": {
          "base_uri": "https://localhost:8080/"
        },
        "id": "3abCFm30hYb9",
        "outputId": "8267553f-50ec-41e3-d330-3110a0013c59"
      },
      "execution_count": 43,
      "outputs": [
        {
          "output_type": "execute_result",
          "data": {
            "text/plain": [
              "1.4142135623730951"
            ]
          },
          "metadata": {},
          "execution_count": 43
        }
      ]
    },
    {
      "cell_type": "code",
      "source": [
        "L_p_matrix_norm(np.array(((15,0),(0,5))),2)"
      ],
      "metadata": {
        "colab": {
          "base_uri": "https://localhost:8080/"
        },
        "id": "SVYw4jxgheMl",
        "outputId": "0a4db248-5130-406c-e145-425a1c754210"
      },
      "execution_count": 47,
      "outputs": [
        {
          "output_type": "execute_result",
          "data": {
            "text/plain": [
              "11.189148593147504"
            ]
          },
          "metadata": {},
          "execution_count": 47
        }
      ]
    },
    {
      "cell_type": "markdown",
      "source": [
        "Задача 2\n",
        "---"
      ],
      "metadata": {
        "id": "FMkW6JgWjJ69"
      }
    },
    {
      "cell_type": "code",
      "source": [
        "M = np.random.random((3, 3))\n",
        "def get_L2(A):\n",
        "    return (np.max(np.linalg.eigvals(A.T @ A)))**0.5\n",
        "def get_frobenius_norm(M):\n",
        "    u, s, vh = np.linalg.svd(M)\n",
        "    return np.sum(s ** 2) ** 0.5"
      ],
      "metadata": {
        "id": "KnUcZ6gSTs1c"
      },
      "execution_count": 50,
      "outputs": []
    },
    {
      "cell_type": "code",
      "source": [
        "dim = 2\n",
        "rep = 100\n",
        "M = np.random.random((dim, dim))\n",
        "vals = np.zeros(3)\n",
        "for i in range(rep):\n",
        "    vals += np.array([1/np.sqrt(dim) * get_frobenius_norm(M), get_L2(M), get_frobenius_norm(M)])/rep\n",
        "\n",
        "for dim in range(3, 30):\n",
        "    M = np.random.random((dim, dim))\n",
        "    v = np.zeros(3)\n",
        "    for i in range(rep):\n",
        "        v += np.array([1/np.sqrt(dim) * get_frobenius_norm(M), get_L2(M), get_frobenius_norm(M)])/rep\n",
        "    vals = np.vstack([vals, v])\n",
        "\n",
        "x = [2] + list(range(3, 30))\n",
        "y1 = vals[:, 0]\n",
        "y2 = vals[:, 1]\n",
        "y3 = vals[:, 2]\n",
        "\n",
        "fig, ax = plt.subplots(dpi=90, figsize=(5, 3))\n",
        "\n",
        "plt.plot(x, y1, label=\"$\\|A\\|_F/\\\\sqrt{n}$\")\n",
        "plt.scatter(x, y1)\n",
        "plt.plot(x, y2, label=\"$\\|A\\|_2$\")\n",
        "plt.scatter(x, y2)\n",
        "plt.plot(x, y3, label=\"$\\|A\\|_F$\")\n",
        "plt.scatter(x, y3)\n",
        "plt.legend()\n",
        "plt.xlabel(\"dim\")\n",
        "plt.show()"
      ],
      "metadata": {
        "colab": {
          "base_uri": "https://localhost:8080/",
          "height": 281
        },
        "id": "HMGEmuCXT8zk",
        "outputId": "1c2ea44f-60da-41c4-9702-30041db8376b"
      },
      "execution_count": 53,
      "outputs": [
        {
          "output_type": "display_data",
          "data": {
            "image/png": "[encoded data removed]",
            "text/plain": [
              "<Figure size 450x270 with 1 Axes>"
            ]
          },
          "metadata": {
            "needs_background": "light"
          }
        }
      ]
    },
    {
      "cell_type": "markdown",
      "source": [
        "Задача 3\n",
        "---"
      ],
      "metadata": {
        "id": "OBDQhXiMUNFn"
      }
    },
    {
      "cell_type": "code",
      "source": [
        "dim = 3\n",
        "M = np.random.random((dim, dim))\n",
        "A = M.T @ M\n",
        "CH = np.linalg.cholesky(A)\n",
        "np.random.normal(1, 2, dim)\n",
        "\n",
        "dim = 3;\n",
        "def get_fix_rand(A, N):\n",
        "    CH = np.linalg.cholesky(A)\n",
        "    z = np.random.normal(0, 1, (dim, N))\n",
        "    return CH @ z\n",
        "\n",
        "v1 = get_fix_rand(A,1000)[0]\n",
        "v2 = get_fix_rand(A,1000)[1]\n",
        "v3 = get_fix_rand(A,1000)[2]\n",
        "\n",
        "print(A)\n",
        "\n",
        "print(np.cov(v1, v2)[0][0])\n",
        "\n",
        "print(np.cov(v1, v2)[1][1])\n",
        "\n",
        "print(np.cov(v2, v3)[0][0])\n",
        "\n",
        "print(np.cov(v2, v3)[1][1])"
      ],
      "metadata": {
        "colab": {
          "base_uri": "https://localhost:8080/"
        },
        "id": "EtK9YSUDUQKe",
        "outputId": "699cce31-3349-4186-fede-7ddd5559dc30"
      },
      "execution_count": 33,
      "outputs": [
        {
          "output_type": "stream",
          "name": "stdout",
          "text": [
            "[[1.61092443 1.56960894 1.24816687]\n",
            " [1.56960894 1.57333213 1.24642831]\n",
            " [1.24816687 1.24642831 1.01144217]]\n",
            "1.5847805720348258\n",
            "1.6684115927357235\n",
            "1.6684115927357235\n",
            "0.9627167147401033\n"
          ]
        }
      ]
    },
    {
      "cell_type": "code",
      "source": [
        ""
      ],
      "metadata": {
        "id": "_x7R1A3fZzzZ"
      },
      "execution_count": null,
      "outputs": []
    },
    {
      "cell_type": "markdown",
      "source": [
        "Задача 4"
      ],
      "metadata": {
        "id": "gxP109wJd_fh"
      }
    },
    {
      "cell_type": "code",
      "source": [
        "def procrust_transform(M1, M2):\n",
        "    v1_bar = np.mean(M1, axis=0)\n",
        "    v2_bar = np.mean(M2, axis=0)\n",
        "    \n",
        "    M1_tilde = M1 - v1_bar\n",
        "    M2_tilde = M2 - v2_bar\n",
        "    \n",
        "    SVD_base = M1_tilde.T @ M2_tilde\n",
        "    u, s, vh = np.linalg.svd(SVD_base)\n",
        "\n",
        "    R = u @ vh\n",
        "    mu = v2_bar - R.T @ v1_bar\n",
        "    return R, mu\n",
        "\n",
        "def plot_procrust_transform(M1, M2, flag=True):\n",
        "    R, mu = procrust_transform(M1, M2)\n",
        "    M1_im = M1@R+mu\n",
        "\n",
        "    x2 = M2[:, 0]\n",
        "    y2 = M2[:, 1]\n",
        "\n",
        "    x1 = M1[:, 0]\n",
        "    y1 = M1[:, 1]\n",
        "\n",
        "    x1_im = M1_im[:, 0]\n",
        "    y1_im = M1_im[:, 1]\n",
        "\n",
        "    fig, axs = plt.subplots(1, 2, figsize=(8, 4))\n",
        "\n",
        "    axs[0].scatter(x1, y1)\n",
        "    axs[0].scatter(x2, y2)\n",
        "    axs[1].scatter(x1_im, y1_im)\n",
        "    axs[1].scatter(x2, y2)\n",
        "    \n",
        "    if flag:\n",
        "        axs[0].plot(x1, y1)\n",
        "        axs[0].plot(x2, y2)\n",
        "        axs[1].plot(x1_im, y1_im)\n",
        "        axs[1].plot(x2, y2)\n",
        "    \n",
        "\n",
        "    plt.show()"
      ],
      "metadata": {
        "id": "S1PII6yUeBnV"
      },
      "execution_count": 34,
      "outputs": []
    },
    {
      "cell_type": "code",
      "source": [
        "phi = np.linspace(0, 3/2 * np.pi, 100)\n",
        "x1 = np.cos(phi) + np.cos(10 * phi)/5\n",
        "y1 = np.sin(phi) + np.sin(10 * phi)/5\n",
        "M1 = np.vstack([x1, y1]).T\n",
        "\n",
        "phi = np.linspace(np.pi+1, 5/2 * np.pi+1, 100)\n",
        "x2 = np.cos(phi) + np.cos(10 * phi)/2 + 1\n",
        "y2 = np.sin(phi) + np.sin(10 * phi)/6 + 1\n",
        "M2 = np.vstack([x2, y2]).T\n",
        "\n",
        "plot_procrust_transform(M1, M2)"
      ],
      "metadata": {
        "colab": {
          "base_uri": "https://localhost:8080/",
          "height": 265
        },
        "id": "j0mfxIiNeKGc",
        "outputId": "063966ee-fb35-4d56-f836-922eff8ddc35"
      },
      "execution_count": 41,
      "outputs": [
        {
          "output_type": "display_data",
          "data": {
            "image/png": "[encoded data removed]",
            "text/plain": [
              "<Figure size 576x288 with 2 Axes>"
            ]
          },
          "metadata": {
            "needs_background": "light"
          }
        }
      ]
    }
  ]
}