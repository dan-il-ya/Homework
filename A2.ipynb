{
  "nbformat": 4,
  "nbformat_minor": 0,
  "metadata": {
    "colab": {
      "name": "A2.ipynb",
      "provenance": [],
      "collapsed_sections": [],
      "authorship_tag": "ABX9TyPQoYmpgua9ZlKU/MBijXWT"
    },
    "kernelspec": {
      "name": "python3",
      "display_name": "Python 3"
    },
    "language_info": {
      "name": "python"
    }
  },
  "cells": [
    {
      "cell_type": "code",
      "metadata": {
        "id": "ZozFCGFSgwNl"
      },
      "source": [
        "import numpy as np\n",
        "import seaborn\n",
        "import matplotlib.pyplot as plt"
      ],
      "execution_count": null,
      "outputs": []
    },
    {
      "cell_type": "markdown",
      "metadata": {
        "id": "R5hkY2uffSH4"
      },
      "source": [
        "Задача 1\n",
        "---\n",
        "Поиск минимума функции потерь:\n",
        "$\\newcommand{\\y}{\\bar y} \\newcommand{\\L}{\\mathcal L} \\newcommand{\\pt}{\\partial}$\n",
        "$\\L = \\sum\\limits_{i} (y_i - \\y)^2.$\n",
        "Найдём экстемаль как ноль производной по искомму параметру: $\\frac{\\pt\\L}{\\pt\\y} = 2 \\sum\\limits_{i} (y_i - \\y) = 0$, следовательно, экстремаль есть среднее арифметическое: $ \\y = \\frac{1}{N} \\sum y_i$, где $N$ -- количество чисел в выборке. На экстремали достигается строгий минимум, т.к. положительна вторая производная: $\\frac{\\pt^2 \\!\\L}{\\pt \\y^2} = 2\\cdot N $.\n",
        "\n"
      ]
    },
    {
      "cell_type": "markdown",
      "metadata": {
        "id": "KJP3qBxHD_Ze"
      },
      "source": [
        "Задача 3\n",
        "--- \n",
        "$\\newcommand{\\L}{\\mathcal L} \\newcommand{\\pt}{\\partial} \\newcommand{\\diff}[2]{\\frac{\\pt #1}{\\pt #2}}$\n",
        "Прямая $ax + b$ построенная по методу МНК минимизирует суммарную ошибку: $\\L=\\sum ((ax_i + b)-y_i)^2$. Первая вариация: \n",
        "$$\n",
        "\\delta \\L \n",
        "= \n",
        "  \\diff{\\L}{a} \\delta a + \\diff{\\L}{b} \\delta b \n",
        "=\n",
        "  2\\left(\\sum x_i\\left((ax_i + b) - y_i\\right) \\right) \\delta a + 2\\left(\\sum (ax_i + b) - y_i \\right) \\delta b\n",
        "$$ \n",
        "должна обращаться в ноль, что выполняется при равенстве нулю каждого из коэффициентов перед вариациями параметров. Равенство нулю второго коэффициента доказывает требуемое:\n",
        "$$\n",
        "  \\diff{\\L}{b}\n",
        "= \n",
        "  2\\sum (ax_i + b) - y_i\n",
        "=\n",
        "  2N (a \\bar x + b - \\bar y) = 0\n",
        "\\quad \\Rightarrow \\quad\n",
        "  a \\bar x + b = \\bar y \n",
        "$$\n",
        "\n",
        "\n",
        "В случае многомерной регрессии $\\L=\\sum\\limits_{i,a} ((W_b^a x_i^b + \\Lambda^a)-y_i^a)^2$ по аналогии рассмотрим обнуление вариации по свободному члену:\n",
        "\n",
        "$$\n",
        "  \\diff{\\L}{\\Lambda^a}\n",
        "=\n",
        "  2\\sum\\limits_i \\left((W_b^a x_i^b + \\Lambda^a)-y_i^a\\right)\n",
        "=\n",
        "  2 N\\left((W_b^a \\bar x^b + \\Lambda^a)-\\bar y^a\\right) = 0,\n",
        "$$\n",
        "то есть точка $(\\bar{\\vec{x}},\\bar{\\vec{y}})$ принадлелит минимальной гиперплоскости $\\vec y = \\hat W (\\vec x) + \\vec \\Lambda$.\n"
      ]
    },
    {
      "cell_type": "markdown",
      "metadata": {
        "id": "msj2Q4YGfhJr"
      },
      "source": [
        "Задача 4\n",
        "---\n",
        "\n"
      ]
    },
    {
      "cell_type": "markdown",
      "metadata": {
        "id": "WKPZCLD2MMN2"
      },
      "source": [
        "Задача 5\n",
        "---\n"
      ]
    },
    {
      "cell_type": "code",
      "metadata": {
        "id": "L76S7nb9fQPi",
        "colab": {
          "base_uri": "https://localhost:8080/",
          "height": 372
        },
        "outputId": "38ac360e-cc4a-4e5b-b381-625a7218992d"
      },
      "source": [
        "# data\n",
        "\n",
        "x = [10, 8, 13, 9, 11, 14, 6, 4, 12, 7, 5]\n",
        "y1 = [8.04, 6.95, 7.58, 8.81, 8.33, 9.96, 7.24, 4.26, 10.84, 4.82, 5.68]\n",
        "y2 = [9.14, 8.14, 8.74, 8.77, 9.26, 8.10, 6.13, 3.10, 9.13, 7.26, 4.74]\n",
        "y3 = [7.46, 6.77, 12.74, 7.11, 7.81, 8.84, 6.08, 5.39, 8.15, 6.42, 5.73]\n",
        "\n",
        "x4 = [8, 8, 8, 8, 8, 8, 8, 19, 8, 8, 8]\n",
        "y4 = [6.58, 5.76, 7.71, 8.84, 8.47, 7.04, 5.25, 12.50, 5.56, 7.91, 6.89]\n",
        "\n",
        "selections = ((x,y1), (x,y2), (x,y3), (x4,y4))\n",
        "\n",
        "#plot\n",
        "fig, axs = plt.subplots(2, 2)\n",
        "\n",
        "for frame in (axs[0, 0], axs[1, 0], axs[0, 1], axs[1, 1]):\n",
        "    frame.set(xlim=(0, 20), ylim=(2, 14))\n",
        "    frame.set(xticks=(0, 10, 20), yticks=(4, 8, 12))\n",
        "\n",
        "for i in range(4):\n",
        "  sel = selections[i]\n",
        "  axs[i % 2, i // 2].plot(sel[0] , sel[1], 'o')\n",
        "  axs[i % 2, i // 2].set_title(\"Выборка \" + str(i))\n",
        "\n",
        "##  axs[1, 1].plot(x4, y4, 'o'); axs[1, 1].set_title(\"Выборка 4\")\n",
        "\n",
        "plt.show()\n",
        "\n",
        "for i in range(4):\n",
        "  print(\"Выборка\",i,\": дисперсия по x =\", np.var(selections[i][0]),\"; дисперсия по y =\", np.var(selections[i][1]),\"; коэффициент корреляции x-y =\",np.corrcoef(selections[i])[0][1])\n"
      ],
      "execution_count": null,
      "outputs": [
        {
          "output_type": "display_data",
          "data": {
            "image/png": "[encoded data removed]",
            "text/plain": [
              "<Figure size 432x288 with 4 Axes>"
            ]
          },
          "metadata": {
            "needs_background": "light"
          }
        },
        {
          "output_type": "stream",
          "name": "stdout",
          "text": [
            "Выборка 0 : дисперсия по x = 10.0 ; дисперсия по y = 3.7520628099173554 ; коэффициент корреляции x-y = 0.81642051634484\n",
            "Выборка 1 : дисперсия по x = 10.0 ; дисперсия по y = 3.752390082644628 ; коэффициент корреляции x-y = 0.8162365060002428\n",
            "Выборка 2 : дисперсия по x = 10.0 ; дисперсия по y = 3.747836363636364 ; коэффициент корреляции x-y = 0.8162867394895984\n",
            "Выборка 3 : дисперсия по x = 10.0 ; дисперсия по y = 3.7484082644628103 ; коэффициент корреляции x-y = 0.8165214368885028\n",
            "0.81642051634484\n"
          ]
        }
      ]
    },
    {
      "cell_type": "markdown",
      "source": [
        "Задача 7\n",
        "---\n",
        "Уже сделано в Упр. №2 в А1."
      ],
      "metadata": {
        "id": "J-wkoJJgGJgy"
      }
    },
    {
      "cell_type": "code",
      "source": [
        ""
      ],
      "metadata": {
        "id": "dwD5lXNAyZS2"
      },
      "execution_count": null,
      "outputs": []
    }
  ]
}